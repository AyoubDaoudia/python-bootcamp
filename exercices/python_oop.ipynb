{
 "cells": [
  {
   "cell_type": "markdown",
   "metadata": {},
   "source": [
    "## Exercise 1:\n",
    "\n",
    "- consedering the following code\n",
    "\n",
    "```python\n",
    "import datetime # we will use this for date objects\n",
    "\n",
    "class Person:\n",
    "\n",
    "    def __init__(self, name, surname, birthdate, address, telephone, email):\n",
    "        self.name = name\n",
    "        self.surname = surname\n",
    "        self.birthdate = birthdate\n",
    "\n",
    "        self.address = address\n",
    "        self.telephone = telephone\n",
    "        self.email = email\n",
    "\n",
    "    def age(self):\n",
    "        today = datetime.date.today()\n",
    "        age = today.year - self.birthdate.year\n",
    "\n",
    "        if today < datetime.date(today.year, self.birthdate.month, self.birthdate.day):\n",
    "            age -= 1\n",
    "\n",
    "        return age\n",
    "\n",
    "person = Person(\n",
    "    \"Jane\",\n",
    "    \"Doe\",\n",
    "    datetime.date(1992, 3, 12), # year, month, day\n",
    "    \"No. 12 Short Street, Greenville\",\n",
    "    \"555 456 0987\",\n",
    "    \"jane.doe@example.com\"\n",
    ")\n",
    "\n",
    "print(person.name)\n",
    "print(person.email)\n",
    "print(person.age())\n",
    "```\n",
    "Explain what the following variables refer to, and their scope:\n",
    "1. Person\n",
    "2. person\n",
    "3. surname\n",
    "4. self\n",
    "5. age (the function name)\n",
    "6. age (the variable used inside the function)\n",
    "7. self.email\n",
    "8. person.email"
   ]
  },
  {
   "cell_type": "markdown",
   "metadata": {},
   "source": [
    "### write your answer here\n",
    "1.  Name of the class\n",
    "2.  Name of the instance\n",
    "3.  The parameter called \"surname\" to be entered while declaring the instance\n",
    "4.  Refers to that instance itself\n",
    "5.  It's a method of the class Person that returns the age of the person\n",
    "6.  It's a variable used in the function age, it stores the age of the person to be returned\n",
    "7.  The property of self in class Person called email which is affected by the parameter email while declaring the object\n",
    "8.  The property of the object person called email which is affected by the parameter email while declaring the object"
   ]
  },
  {
   "cell_type": "markdown",
   "metadata": {},
   "source": [
    "## Exercise 2\n",
    "1. Rewrite the `Person` class so that a person’s age is calculated for the first time when a new person instance is created, and recalculated (when it is requested) if the day has changed since the last time that it was calculated."
   ]
  },
  {
   "cell_type": "code",
   "execution_count": null,
   "metadata": {},
   "outputs": [],
   "source": [
    "class Person:\n",
    "    COUNT = 0\n",
    "    def __init__(self, name, surname, birthdate, address, telephone, email):\n",
    "        self.name = name\n",
    "        self.surname = surname\n",
    "        self.birthdate = birthdate\n",
    "\n",
    "        self.address = address\n",
    "        self.telephone = telephone\n",
    "        self.email = email\n",
    "        Person.COUNT += 1\n",
    "\n",
    "    def age(self):\n",
    "        age = datetime.date.today()\n",
    "        if Person.COUNT == 1:\n",
    "            Person.COUNT += 1\n",
    "            return age\n",
    "        today = datetime.date.today() - age\n",
    "        if today == 0:\n",
    "            return 0\n",
    "        return today"
   ]
  },
  {
   "cell_type": "markdown",
   "metadata": {},
   "source": [
    "## Exercise 3\n",
    "1. Explain the differences between the attributes `name`, `surname` and `profession`, and what values they can have in different instances of this class:\n",
    "```python\n",
    "class Smith:\n",
    "    surname = \"Smith\"\n",
    "    profession = \"smith\"\n",
    "\n",
    "    def __init__(self, name, profession=None):\n",
    "        self.name = name\n",
    "        if profession is not None:\n",
    "            self.profession = profession\n",
    "```"
   ]
  },
  {
   "cell_type": "code",
   "execution_count": null,
   "metadata": {},
   "outputs": [],
   "source": [
    "# surname and profession are variables of the entire class Smith called class attributes, while name(in the\n",
    "#declaration) is only a parameter and (in the function as in self.name) is a property of the class.\n",
    "#So when an object is created, the name should be given as it will be a property of it, the profession not\n",
    "#necessarily, if it is not given then the profession will be that of the class which is \"smith\", as for the surname\n",
    "#It is not changeable, every object of the class Smith created will have surname = \"Smith\""
   ]
  },
  {
   "cell_type": "markdown",
   "metadata": {},
   "source": [
    "## Exercise 4:\n",
    "1. Create a class called `Numbers`, which has a single class attribute called `MULTIPLIER`, and a constructor which takes the parameters `x` and `y` (these should all be numbers).\n",
    "    1. Write a method called `add` which returns the sum of the attributes `x` and `y`.\n",
    "    2. Write a class method called `multiply`, which takes a single number parameter `a` and returns the product of `a` and `MULTIPLIER`.\n",
    "    3. Write a static method called `subtract`, which takes two number parameters, `b` and `c`, and returns `b - c`.\n",
    "    4. Write a method called `value` which returns a tuple containing the values of `x` and `y`. Make this method into a property, and write a setter and a deleter for manipulating the values of `x` and `y`."
   ]
  },
  {
   "cell_type": "markdown",
   "metadata": {},
   "source": [
    "## Exercise 5:\n",
    "1. Create an instance of the `Person` class from example 2. Use the `dir` function on the instance. Then use the `dir` function on the class.\n",
    "    1. What happens if you call the `__str__` method on the instance? Verify that you get the same result if you call the `str` function with the instance as a parameter.\n",
    "    2. What is the type of the instance?\n",
    "    3. What is the type of the class?\n",
    "    4. Write a function which prints out the names and values of all the custom attributes of any object that is passed in as a parameter."
   ]
  },
  {
   "cell_type": "markdown",
   "metadata": {},
   "source": [
    "## Exercise 6:\n",
    "Write a class for creating completely generic objects: its `__init__` function should accept any number of keyword parameters, and set them on the object as attributes with the keys as names. Write a `__str__` method for the class – the string it returns should include the name of the class and the values of all the object’s custom instance attributes."
   ]
  },
  {
   "cell_type": "code",
   "execution_count": 16,
   "metadata": {},
   "outputs": [
    {
     "ename": "TypeError",
     "evalue": "'tuple' object is not callable",
     "output_type": "error",
     "traceback": [
      "\u001b[0;31m---------------------------------------------------------------------------\u001b[0m",
      "\u001b[0;31mTypeError\u001b[0m                                 Traceback (most recent call last)",
      "\u001b[0;32m<ipython-input-16-1981f30783b0>\u001b[0m in \u001b[0;36m<module>\u001b[0;34m\u001b[0m\n\u001b[1;32m     33\u001b[0m \u001b[0;34m\u001b[0m\u001b[0m\n\u001b[1;32m     34\u001b[0m \u001b[0ma\u001b[0m \u001b[0;34m=\u001b[0m \u001b[0mNumbers\u001b[0m\u001b[0;34m(\u001b[0m\u001b[0;36m1\u001b[0m\u001b[0;34m,\u001b[0m\u001b[0;36m2\u001b[0m\u001b[0;34m)\u001b[0m\u001b[0;34m\u001b[0m\u001b[0;34m\u001b[0m\u001b[0m\n\u001b[0;32m---> 35\u001b[0;31m \u001b[0ma\u001b[0m\u001b[0;34m.\u001b[0m\u001b[0mvalue\u001b[0m\u001b[0;34m(\u001b[0m\u001b[0mx\u001b[0m\u001b[0;34m=\u001b[0m\u001b[0;36m2\u001b[0m\u001b[0;34m,\u001b[0m\u001b[0my\u001b[0m\u001b[0;34m=\u001b[0m\u001b[0;36m3\u001b[0m\u001b[0;34m)\u001b[0m\u001b[0;34m\u001b[0m\u001b[0;34m\u001b[0m\u001b[0m\n\u001b[0m",
      "\u001b[0;31mTypeError\u001b[0m: 'tuple' object is not callable"
     ]
    }
   ],
   "source": [
    "#Exercice 4:\n",
    "\n",
    "class Numbers :\n",
    "    MULTIPLIER = 4\n",
    "    def __init__(self,x,y):\n",
    "        #if isinstance(x) != (float or int) or isinstance(y) != (float or int):\n",
    "         #   raise TypeError\n",
    "        self.x = x\n",
    "        self.y = y\n",
    "    def add(self):\n",
    "        return self.x + self.y\n",
    "    @classmethod\n",
    "    def multiply(self):\n",
    "        return Numbers.MULTIPLIER * self.x\n",
    "    @staticmethod\n",
    "    def subtract(b,c):\n",
    "        return b - c\n",
    "    @property\n",
    "    def value(self):\n",
    "        return self.x,self.y\n",
    "    @value.setter\n",
    "    def value(self,x = None,y = None):\n",
    "        if x != None:\n",
    "            self.x  = x\n",
    "        if y != None:\n",
    "            self.y = y\n",
    "    @value.deleter\n",
    "    def value(self,x = False, y = False):\n",
    "        if x == True:\n",
    "            del self.x\n",
    "        if y == True:\n",
    "            del self.y\n",
    "            \n",
    "a = Numbers(1,2)\n",
    "a.value.setter()"
   ]
  },
  {
   "cell_type": "code",
   "execution_count": 26,
   "metadata": {},
   "outputs": [
    {
     "name": "stdout",
     "output_type": "stream",
     "text": [
      "['__class__', '__delattr__', '__dict__', '__dir__', '__doc__', '__eq__', '__format__', '__ge__', '__getattribute__', '__gt__', '__hash__', '__init__', '__init_subclass__', '__le__', '__lt__', '__module__', '__ne__', '__new__', '__reduce__', '__reduce_ex__', '__repr__', '__setattr__', '__sizeof__', '__str__', '__subclasshook__', '__weakref__', 'address', 'age', 'birthdate', 'email', 'name', 'surname', 'telephone'] \n",
      "\n",
      "['__class__', '__delattr__', '__dict__', '__dir__', '__doc__', '__eq__', '__format__', '__ge__', '__getattribute__', '__gt__', '__hash__', '__init__', '__init_subclass__', '__le__', '__lt__', '__module__', '__ne__', '__new__', '__reduce__', '__reduce_ex__', '__repr__', '__setattr__', '__sizeof__', '__str__', '__subclasshook__', '__weakref__', 'age']\n",
      "My name : Jane,\n",
      "My surname :Doe,\n",
      "My birthdate :1992-03-12,\n",
      "My address :No. 12 Short Street, Greenville,\n",
      "My telephone :555 456 0987,\n",
      "My email :jane.doe@example.com\n",
      "My name : Jane,\n",
      "My surname :Doe,\n",
      "My birthdate :1992-03-12,\n",
      "My address :No. 12 Short Street, Greenville,\n",
      "My telephone :555 456 0987,\n",
      "My email :jane.doe@example.com\n",
      "<class '__main__.Person'>\n",
      "<class 'type'>\n"
     ]
    }
   ],
   "source": [
    "#Exercice 5\n",
    "import datetime\n",
    "\n",
    "class Person:\n",
    "\n",
    "    def __init__(self, name, surname, birthdate, address, telephone, email):\n",
    "        self.name = name\n",
    "        self.surname = surname\n",
    "        self.birthdate = birthdate\n",
    "\n",
    "        self.address = address\n",
    "        self.telephone = telephone\n",
    "        self.email = email\n",
    "\n",
    "    def age(self):\n",
    "        today = datetime.date.today()\n",
    "        age = today.year - self.birthdate.year\n",
    "\n",
    "        if today < datetime.date(today.year, self.birthdate.month, self.birthdate.day):\n",
    "            age -= 1\n",
    "\n",
    "        return age\n",
    "    def __str__(self):\n",
    "        return \"My name : {},\\nMy surname :{},\\nMy birthdate :{},\\nMy address :{},\\nMy telephone :{},\\nMy email :{}\".format(self.name,self.surname,self.birthdate,self.address,self.telephone,self.email)\n",
    "    \n",
    "\n",
    "person = Person(\n",
    "    \"Jane\",\n",
    "    \"Doe\",\n",
    "    datetime.date(1992, 3, 12),\n",
    "    \"No. 12 Short Street, Greenville\",\n",
    "    \"555 456 0987\",\n",
    "    \"jane.doe@example.com\"\n",
    ")\n",
    "print(dir(person),\"\\n\")\n",
    "print(dir(Person))\n",
    "print(person.__str__())\n",
    "print(str(person))\n",
    "print(type(person))\n",
    "print(type(Person))"
   ]
  },
  {
   "cell_type": "code",
   "execution_count": 31,
   "metadata": {},
   "outputs": [
    {
     "name": "stdout",
     "output_type": "stream",
     "text": [
      "Ayoub\n"
     ]
    }
   ],
   "source": [
    "#Exercice 6\n",
    "\n",
    "class generic:\n",
    "    def __init__(self,**kwargs):\n",
    "        self.__dict__.update(kwargs)\n",
    "        self.dic = kwargs\n",
    "    def __str__(self):\n",
    "        x = \"Class name : {}\\n\".format(type(self))\n",
    "        for key, value in self.dic.items():\n",
    "            x += \"{} : {}\\n\".format(key,value)\n",
    "        return x\n",
    "\n",
    "obj = generic(name = \"Ayoub\", yon = \"yes\")\n",
    "print(obj.name)"
   ]
  }
 ],
 "metadata": {
  "kernelspec": {
   "display_name": "Python 3",
   "language": "python",
   "name": "python3"
  },
  "language_info": {
   "codemirror_mode": {
    "name": "ipython",
    "version": 3
   },
   "file_extension": ".py",
   "mimetype": "text/x-python",
   "name": "python",
   "nbconvert_exporter": "python",
   "pygments_lexer": "ipython3",
   "version": "3.7.12"
  }
 },
 "nbformat": 4,
 "nbformat_minor": 2
}
